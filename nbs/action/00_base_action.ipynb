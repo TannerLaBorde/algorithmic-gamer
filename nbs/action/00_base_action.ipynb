{
 "cells": [
  {
   "cell_type": "markdown",
   "id": "cf3902d7",
   "metadata": {},
   "source": [
    "# Action\n",
    "\n",
    "> This is functionality for enabling our model to interact with the game world."
   ]
  },
  {
   "cell_type": "code",
   "execution_count": null,
   "id": "721d93e1",
   "metadata": {},
   "outputs": [],
   "source": [
    "###TODO, old version was unlreliable"
   ]
  },
  {
   "cell_type": "code",
   "execution_count": null,
   "id": "7da10108",
   "metadata": {},
   "outputs": [],
   "source": [
    "#| hide\n",
    "import nbdev; nbdev.nbdev_export()"
   ]
  },
  {
   "cell_type": "code",
   "execution_count": null,
   "id": "b6318f51",
   "metadata": {},
   "outputs": [],
   "source": []
  }
 ],
 "metadata": {
  "kernelspec": {
   "display_name": "Python 3 (ipykernel)",
   "language": "python",
   "name": "python3"
  }
 },
 "nbformat": 4,
 "nbformat_minor": 5
}
