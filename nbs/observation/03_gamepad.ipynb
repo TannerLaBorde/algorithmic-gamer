{
 "cells": [
  {
   "cell_type": "markdown",
   "id": "e749a1bb",
   "metadata": {},
   "source": [
    "# Gamepad\n",
    "\n",
    "> This is the functionality for collecting gamepad inputs"
   ]
  },
  {
   "cell_type": "code",
   "execution_count": null,
   "id": "fcd7d040",
   "metadata": {},
   "outputs": [],
   "source": [
    "#| default_exp observation.gamepad\n",
    "#| export\n",
    "import time\n",
    "import inputs\n",
    "\n",
    "from algorithmic_gamer.utility.types import *\n"
   ]
  },
  {
   "cell_type": "code",
   "execution_count": null,
   "id": "4acd8d14",
   "metadata": {},
   "outputs": [],
   "source": [
    "#| export\n",
    "def normalize_stick_event(event):\n",
    "    # Normalize stick events to the range [-1, 1]\n",
    "    value = event.state / 32767\n",
    "    return value\n",
    "\n",
    "def normalize_trigger_event(event):\n",
    "    # Normalize trigger events to the range [0, 1]\n",
    "    value = event.state / 255\n",
    "    return value"
   ]
  },
  {
   "cell_type": "markdown",
   "id": "f98eec6e",
   "metadata": {},
   "source": [
    "`normalize_stick_event` and `normalize_trigger_event` convert the values from the gamepad to bounded normalized values."
   ]
  },
  {
   "cell_type": "code",
   "execution_count": null,
   "id": "3a366a83",
   "metadata": {},
   "outputs": [],
   "source": [
    "#| export\n",
    "def process_stick_event(event, last_values, event_list, THRESHOLD, verbose):\n",
    "    value = normalize_stick_event(event)\n",
    "    # Check if the input has been recorded before\n",
    "    if event.code in last_values:\n",
    "        # If the input has been recorded before, check if the value has changed sufficiently\n",
    "        if abs(value - last_values[event.code]) > THRESHOLD:\n",
    "            # If the value has changed sufficiently, record the event\n",
    "            event_list.append(GamepadEventObservation(timestamp=time.time(), code=event.code, state=value))\n",
    "            last_values[event.code] = value\n",
    "            if verbose:\n",
    "                print(f'event.code{event.code}, event.state {value}')\n",
    "    else:\n",
    "        # If the input has not been recorded before, record the event\n",
    "        event_list.append(GamepadEventObservation(timestamp=time.time(), code=event.code, state=value))\n",
    "        last_values[event.code] = value\n",
    "        if verbose:\n",
    "            print(f'event.code{event.code}, event.state {value}')\n",
    "    return last_values, event_list"
   ]
  },
  {
   "cell_type": "markdown",
   "id": "cc12117c",
   "metadata": {},
   "source": [
    "`process_stick_event` processes stick events from the gamepad and appends the event to the `event_list` when change in stick value exceeds a defined `THRESHOLD`"
   ]
  },
  {
   "cell_type": "code",
   "execution_count": null,
   "id": "9c5ab443",
   "metadata": {},
   "outputs": [],
   "source": [
    "#| export\n",
    "def process_trigger_event(event, last_values, event_list, THRESHOLD, verbose):\n",
    "    value = normalize_trigger_event(event)\n",
    "    # Check if the input has been recorded before\n",
    "    if event.code in last_values:\n",
    "        # If the input has been recorded before, check if the value has changed sufficiently\n",
    "        if abs(value - last_values[event.code]) > THRESHOLD:\n",
    "            # If the value has changed sufficiently, record the event\n",
    "            event_list.append(GamepadEventObservation(timestamp=time.time(), code=event.code, state=value))\n",
    "            last_values[event.code] = value\n",
    "            if verbose:\n",
    "                print(f'event.code{event.code}, event.state {value}')\n",
    "    else:\n",
    "        # If the input has not been recorded before, record the event\n",
    "        event_list.append(GamepadEventObservation(timestamp=time.time(), code=event.code, state=value))\n",
    "        last_values[event.code] = value\n",
    "        if verbose:\n",
    "            print(f'event.code{event.code}, event.state {value}')\n",
    "    return last_values, event_list\n"
   ]
  },
  {
   "cell_type": "markdown",
   "id": "c37d0f4a",
   "metadata": {},
   "source": [
    "`process_trigger_event` processes trigger events from the gamepad and appends the event to the `event_list` when change in trigger value exceeds a defined `THRESHOLD`"
   ]
  },
  {
   "cell_type": "code",
   "execution_count": null,
   "id": "1bbfd5ec",
   "metadata": {},
   "outputs": [],
   "source": [
    "#| export\n",
    "def process_button_event(event, event_list, verbose):\n",
    "    # Record button press events regardless of the change in value\n",
    "    event_list.append(GamepadEventObservation(timestamp=time.time(), code=event.code, state=event.state))\n",
    "    if verbose:\n",
    "        print(f'event.code{event.code}, event.state {event.state}')\n",
    "    return event_list"
   ]
  },
  {
   "cell_type": "markdown",
   "id": "d5d89ed8",
   "metadata": {},
   "source": [
    "`process_button_event` appends button events to the `event_list`"
   ]
  },
  {
   "cell_type": "code",
   "execution_count": null,
   "id": "dc05cf57",
   "metadata": {},
   "outputs": [],
   "source": [
    "#| export\n",
    "def record_gamepad_events(duration, THRESHOLD = .05, verbose=False):\n",
    "    # Set up storage for the controller inputs\n",
    "    event_list = []\n",
    "    last_values = {}\n",
    "    if verbose:\n",
    "        print(f'record gamepad start:{time.time()}')\n",
    "    end_time = time.time() + duration\n",
    "    while time.time() < end_time:\n",
    "        # Get the current controller inputs\n",
    "        events = inputs.get_gamepad()\n",
    "        \n",
    "        if time.time() > end_time:#handles an issue where the while loop wont escape when waiting for inputs.get_gamepad()\n",
    "            break\n",
    "        for event in events:\n",
    "            #if stick\n",
    "            if event.code.startswith('ABS_Y') or event.code.startswith('ABS_X') or event.code.startswith('ABS_RY') or event.code.startswith('ABS_RX'):\n",
    "                last_values, event_list = process_stick_event(event, last_values, event_list, THRESHOLD, verbose)\n",
    "            #if trigger    \n",
    "            elif event.code.startswith('ABS_Z') or event.code.startswith('ABS_RZ'):\n",
    "                last_values, event_list = process_trigger_event(event, last_values, event_list, THRESHOLD, verbose)\n",
    "            #if button    \n",
    "            elif event.code.startswith('BTN_'):\n",
    "                event_list = process_button_event(event, event_list, verbose)\n",
    "        \n",
    "    return event_list\n"
   ]
  },
  {
   "cell_type": "markdown",
   "id": "610c53be",
   "metadata": {},
   "source": [
    "`record_gamepad_events` collects button, stick and trigger inputs for a fixed period of time defined by `duration` in seconds"
   ]
  },
  {
   "cell_type": "code",
   "execution_count": null,
   "id": "3ec3009d",
   "metadata": {},
   "outputs": [
    {
     "data": {
      "text/plain": [
       "[GamepadEventObservation(timestamp=1674067371.6870863, code='ABS_X', state=0.013306070131534776),\n",
       " GamepadEventObservation(timestamp=1674067371.6870863, code='ABS_Y', state=-0.06494338816492203),\n",
       " GamepadEventObservation(timestamp=1674067372.7759886, code='ABS_X', state=-0.0445265053254799),\n",
       " GamepadEventObservation(timestamp=1674067372.783989, code='ABS_X', state=-0.3542283394878994),\n",
       " GamepadEventObservation(timestamp=1674067372.7919884, code='ABS_X', state=-0.6056398205511643),\n",
       " GamepadEventObservation(timestamp=1674067372.7919884, code='ABS_Y', state=0.0007324442274239326),\n",
       " GamepadEventObservation(timestamp=1674067372.7999895, code='ABS_X', state=-0.9486373485518967),\n",
       " GamepadEventObservation(timestamp=1674067372.7999895, code='ABS_Y', state=0.24866481521042513),\n",
       " GamepadEventObservation(timestamp=1674067372.8079884, code='ABS_X', state=-1.000030518509476),\n",
       " GamepadEventObservation(timestamp=1674067372.8639889, code='ABS_Y', state=0.19623401593066195),\n",
       " GamepadEventObservation(timestamp=1674067372.9120593, code='ABS_Y', state=0.13147373882259591),\n",
       " GamepadEventObservation(timestamp=1674067372.9440453, code='ABS_Y', state=0.08105716116824854),\n",
       " GamepadEventObservation(timestamp=1674067372.9511318, code='ABS_X', state=-0.6486098818933683),\n",
       " GamepadEventObservation(timestamp=1674067372.9591322, code='ABS_X', state=-0.39289529099398784),\n",
       " GamepadEventObservation(timestamp=1674067372.9677997, code='ABS_X', state=-0.03827021088290048),\n",
       " GamepadEventObservation(timestamp=1674067372.9677997, code='ABS_Y', state=0.022247993408001952),\n",
       " GamepadEventObservation(timestamp=1674067372.9919753, code='ABS_X', state=0.022675252540665915),\n",
       " GamepadEventObservation(timestamp=1674067372.999154, code='ABS_X', state=0.26709799493392744),\n",
       " GamepadEventObservation(timestamp=1674067373.0151508, code='ABS_X', state=0.5586107974486526),\n",
       " GamepadEventObservation(timestamp=1674067373.0315273, code='ABS_X', state=0.8853724784081546),\n",
       " GamepadEventObservation(timestamp=1674067373.0395267, code='ABS_X', state=1.0),\n",
       " GamepadEventObservation(timestamp=1674067373.071527, code='ABS_Y', state=0.09326456495864742),\n",
       " GamepadEventObservation(timestamp=1674067373.0955274, code='ABS_Y', state=0.15793328653828548),\n",
       " GamepadEventObservation(timestamp=1674067373.1355274, code='ABS_Y', state=0.21225623340556046),\n",
       " GamepadEventObservation(timestamp=1674067373.1595278, code='ABS_Y', state=0.26700643940549945),\n",
       " GamepadEventObservation(timestamp=1674067373.175528, code='ABS_Y', state=0.5676137577440717),\n",
       " GamepadEventObservation(timestamp=1674067373.1835282, code='ABS_X', state=0.6563921018097476),\n",
       " GamepadEventObservation(timestamp=1674067373.1915276, code='ABS_X', state=0.3667104098635823),\n",
       " GamepadEventObservation(timestamp=1674067373.1915276, code='ABS_Y', state=0.7994933927426985),\n",
       " GamepadEventObservation(timestamp=1674067373.199527, code='ABS_X', state=0.07162694174016541),\n",
       " GamepadEventObservation(timestamp=1674067373.207529, code='ABS_X', state=-0.2793664357432783),\n",
       " GamepadEventObservation(timestamp=1674067373.207529, code='ABS_Y', state=1.0),\n",
       " GamepadEventObservation(timestamp=1674067373.2235274, code='ABS_X', state=-0.6550187688833278),\n",
       " GamepadEventObservation(timestamp=1674067373.231527, code='ABS_Y', state=0.7749565111239967),\n",
       " GamepadEventObservation(timestamp=1674067373.2395277, code='ABS_X', state=-0.7256385998107853),\n",
       " GamepadEventObservation(timestamp=1674067373.247527, code='ABS_Y', state=0.7157506027405621),\n",
       " GamepadEventObservation(timestamp=1674067373.2555277, code='ABS_X', state=-0.7952818384350109),\n",
       " GamepadEventObservation(timestamp=1674067373.263527, code='ABS_Y', state=0.6476332895901364),\n",
       " GamepadEventObservation(timestamp=1674067373.2715275, code='ABS_X', state=-0.8505508590960418),\n",
       " GamepadEventObservation(timestamp=1674067373.2795277, code='ABS_Y', state=0.5854365672780542),\n",
       " GamepadEventObservation(timestamp=1674067373.2995281, code='ABS_X', state=-0.9141514328440199),\n",
       " GamepadEventObservation(timestamp=1674067373.2995281, code='ABS_Y', state=0.5298013245033113),\n",
       " GamepadEventObservation(timestamp=1674067373.3195271, code='ABS_Y', state=0.4764244514297922),\n",
       " GamepadEventObservation(timestamp=1674067373.3355272, code='ABS_X', state=-0.9704275643177587),\n",
       " GamepadEventObservation(timestamp=1674067373.3595288, code='ABS_Y', state=0.413037507248146),\n",
       " GamepadEventObservation(timestamp=1674067373.3675282, code='ABS_Y', state=0.2001098666341136),\n",
       " GamepadEventObservation(timestamp=1674067373.3835278, code='ABS_X', state=-0.041474654377880185),\n",
       " GamepadEventObservation(timestamp=1674067373.3835278, code='ABS_Y', state=-0.04354991302224799),\n",
       " GamepadEventObservation(timestamp=1674067373.3915296, code='ABS_RY', state=0.013824884792626729),\n",
       " GamepadEventObservation(timestamp=1674067373.4474924, code='ABS_RY', state=-0.03714102603228858),\n",
       " GamepadEventObservation(timestamp=1674067373.463132, code='ABS_RX', state=0.003357036042359691),\n",
       " GamepadEventObservation(timestamp=1674067373.4954624, code='ABS_RX', state=0.08062990203558458),\n",
       " GamepadEventObservation(timestamp=1674067373.5031545, code='ABS_RX', state=0.3161107211523789),\n",
       " GamepadEventObservation(timestamp=1674067373.519901, code='ABS_RX', state=0.6341441084017456),\n",
       " GamepadEventObservation(timestamp=1674067373.535901, code='ABS_RX', state=1.0),\n",
       " GamepadEventObservation(timestamp=1674067373.6311502, code='ABS_RY', state=0.03277687917722098),\n",
       " GamepadEventObservation(timestamp=1674067373.6471498, code='ABS_RY', state=0.35032197027497175),\n",
       " GamepadEventObservation(timestamp=1674067373.6631496, code='ABS_RX', state=0.652211066011536),\n",
       " GamepadEventObservation(timestamp=1674067373.6711497, code='ABS_RX', state=0.4050111392559587),\n",
       " GamepadEventObservation(timestamp=1674067373.6711497, code='ABS_RY', state=0.08722190008239998),\n",
       " GamepadEventObservation(timestamp=1674067373.67915, code='ABS_RX', state=0.09320352793969543),\n",
       " GamepadEventObservation(timestamp=1674067373.67915, code='ABS_RY', state=-0.15842158268990142),\n",
       " GamepadEventObservation(timestamp=1674067373.6871498, code='ABS_RX', state=-0.13556321909237953),\n",
       " GamepadEventObservation(timestamp=1674067373.6951504, code='ABS_RX', state=-0.3661000396740623),\n",
       " GamepadEventObservation(timestamp=1674067373.6951504, code='ABS_RY', state=-0.4498428296761986),\n",
       " GamepadEventObservation(timestamp=1674067373.7031507, code='ABS_RX', state=-0.6052125614185003),\n",
       " GamepadEventObservation(timestamp=1674067373.7111502, code='ABS_RX', state=-0.8071840571306498),\n",
       " GamepadEventObservation(timestamp=1674067373.7111502, code='ABS_RY', state=-0.771172215948973),\n",
       " GamepadEventObservation(timestamp=1674067373.7431946, code='ABS_RX', state=-0.8613544114505448),\n",
       " GamepadEventObservation(timestamp=1674067373.7431946, code='ABS_RY', state=-0.7093111972411268),\n",
       " GamepadEventObservation(timestamp=1674067373.767187, code='ABS_RY', state=-0.6552018799401838),\n",
       " GamepadEventObservation(timestamp=1674067373.7840672, code='ABS_RX', state=-0.9147007660145878),\n",
       " GamepadEventObservation(timestamp=1674067373.8080668, code='ABS_RY', state=-0.6032288583025605),\n",
       " GamepadEventObservation(timestamp=1674067373.8320677, code='ABS_RY', state=-0.543137913144322),\n",
       " GamepadEventObservation(timestamp=1674067373.8480673, code='ABS_RY', state=-0.23276467177343058),\n",
       " GamepadEventObservation(timestamp=1674067373.8640673, code='ABS_RX', state=-0.7087008270516068),\n",
       " GamepadEventObservation(timestamp=1674067373.8640673, code='ABS_RY', state=0.003936887722403638),\n",
       " GamepadEventObservation(timestamp=1674067373.8790667, code='ABS_RX', state=-0.3758049256874294),\n",
       " GamepadEventObservation(timestamp=1674067373.8800669, code='ABS_RY', state=0.3087862788781396),\n",
       " GamepadEventObservation(timestamp=1674067373.8960667, code='ABS_RX', state=-0.038239692373424485),\n",
       " GamepadEventObservation(timestamp=1674067373.9040668, code='ABS_RY', state=-0.029267250587481308),\n",
       " GamepadEventObservation(timestamp=1674067373.9354932, code='ABS_X', state=-0.2569963682973724),\n",
       " GamepadEventObservation(timestamp=1674067373.9434927, code='ABS_X', state=-0.4694357127597888),\n",
       " GamepadEventObservation(timestamp=1674067373.9434927, code='ABS_Y', state=0.01748710592974639),\n",
       " GamepadEventObservation(timestamp=1674067373.9512112, code='ABS_X', state=-0.6760155034028138),\n",
       " GamepadEventObservation(timestamp=1674067373.959212, code='ABS_Y', state=0.08969389934995575),\n",
       " GamepadEventObservation(timestamp=1674067373.967809, code='ABS_X', state=-1.000030518509476),\n",
       " GamepadEventObservation(timestamp=1674067373.9754164, code='ABS_Y', state=0.1542710654011658),\n",
       " GamepadEventObservation(timestamp=1674067373.999189, code='ABS_Y', state=0.20862453077791682),\n",
       " GamepadEventObservation(timestamp=1674067374.0071876, code='BTN_TR', state=1),\n",
       " GamepadEventObservation(timestamp=1674067374.0791886, code='ABS_Y', state=0.14734336375011445),\n",
       " GamepadEventObservation(timestamp=1674067374.1031885, code='ABS_Y', state=0.08322397534104434),\n",
       " GamepadEventObservation(timestamp=1674067374.1191895, code='ABS_X', state=-0.6976531266212959),\n",
       " GamepadEventObservation(timestamp=1674067374.1191895, code='ABS_Y', state=0.019287697988830226),\n",
       " GamepadEventObservation(timestamp=1674067374.1351886, code='ABS_X', state=-0.41572313608203376),\n",
       " GamepadEventObservation(timestamp=1674067374.1351886, code='ABS_Y', state=-0.046357615894039736),\n",
       " GamepadEventObservation(timestamp=1674067374.1431878, code='ABS_X', state=0.0609149449140904),\n",
       " GamepadEventObservation(timestamp=1674067374.199188, code='BTN_TR', state=0),\n",
       " GamepadEventObservation(timestamp=1674067374.2395232, code='BTN_TL', state=1),\n",
       " GamepadEventObservation(timestamp=1674067374.3591945, code='BTN_TL', state=0),\n",
       " GamepadEventObservation(timestamp=1674067374.5031786, code='BTN_EAST', state=1),\n",
       " GamepadEventObservation(timestamp=1674067374.5355172, code='ABS_X', state=0.009979552598651083),\n",
       " GamepadEventObservation(timestamp=1674067374.6071799, code='BTN_EAST', state=0)]"
      ]
     },
     "execution_count": null,
     "metadata": {},
     "output_type": "execute_result"
    }
   ],
   "source": [
    "#|eval: false\n",
    "record_gamepad_events(3)"
   ]
  },
  {
   "cell_type": "code",
   "execution_count": null,
   "id": "850f24ba",
   "metadata": {},
   "outputs": [],
   "source": []
  }
 ],
 "metadata": {
  "kernelspec": {
   "display_name": "Python 3 (ipykernel)",
   "language": "python",
   "name": "python3"
  }
 },
 "nbformat": 4,
 "nbformat_minor": 5
}
