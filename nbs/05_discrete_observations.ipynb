{
 "cells": [
  {
   "cell_type": "markdown",
   "id": "5db392b2",
   "metadata": {},
   "source": [
    "# discrete observations\n",
    "\n",
    "> This is functionality for creating observation in a discrete time schema. "
   ]
  },
  {
   "cell_type": "markdown",
   "id": "02b4bdf2",
   "metadata": {},
   "source": [
    "##TODO create a function that calls all 3 data collection methods(vision, sound, gamepad) in parallel to chunk observations.  "
   ]
  }
 ],
 "metadata": {
  "kernelspec": {
   "display_name": "Python 3 (ipykernel)",
   "language": "python",
   "name": "python3"
  }
 },
 "nbformat": 4,
 "nbformat_minor": 5
}
