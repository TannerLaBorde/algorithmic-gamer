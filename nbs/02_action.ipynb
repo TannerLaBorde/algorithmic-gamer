{
 "cells": [
  {
   "cell_type": "markdown",
   "id": "cf3902d7",
   "metadata": {},
   "source": [
    "# Action\n",
    "\n",
    "> This is functionality for enabling our model to interact with the game world."
   ]
  },
  {
   "cell_type": "code",
   "execution_count": null,
   "id": "1d5996e1",
   "metadata": {},
   "outputs": [],
   "source": [
    "#| default_exp action\n",
    "#| export\n",
    "from algorithmic_gamer.types import *\n",
    "from algorithmic_gamer.fuzzer import *\n",
    "import ctypes\n",
    "import time"
   ]
  },
  {
   "cell_type": "code",
   "execution_count": null,
   "id": "53ca2202",
   "metadata": {},
   "outputs": [],
   "source": [
    "#|eval: false\n",
    "#| export\n",
    "####TODO test further\n",
    "def send_input(input_dict):\n",
    "    # Set the default values for the input values\n",
    "    x = 0\n",
    "    y = 0\n",
    "    trigger_left = 0\n",
    "    trigger_right = 0\n",
    "    wButtons = 0\n",
    "\n",
    "    # Parse the input dictionary\n",
    "    for key, value in input_dict.items():\n",
    "        if key == \"stick\":\n",
    "            x = int(32767 * value[\"x\"])\n",
    "            y = int(32767 * value[\"y\"])\n",
    "        elif key == \"trigger\":\n",
    "            if value[\"side\"] == \"left\":\n",
    "                trigger_left = int(32767 * value[\"v\"])\n",
    "            elif value[\"side\"] == \"right\":\n",
    "                trigger_right = int(32767 * value[\"v\"])\n",
    "        elif key == \"button\":\n",
    "            if value[\"state\"] == \"press\":\n",
    "                if value[\"name\"] == \"A\":\n",
    "                    wButtons |= 0x1000\n",
    "                elif value[\"name\"] == \"B\":\n",
    "                    wButtons |= 0x2000\n",
    "                elif value[\"name\"] == \"X\":\n",
    "                    wButtons |= 0x4000\n",
    "                elif value[\"name\"] == \"Y\":\n",
    "                    wButtons |= 0x8000\n",
    "                elif value[\"name\"] == \"LEFT_SHOULDER\":\n",
    "                    wButtons |= 0x0100\n",
    "                elif value[\"name\"] == \"RIGHT_SHOULDER\":\n",
    "                    wButtons |= 0x0200\n",
    "                elif value[\"name\"] == \"BACK\":\n",
    "                    wButtons |= 0x0400\n",
    "                elif value[\"name\"] == \"START\":\n",
    "                    wButtons |= 0x0800\n",
    "                elif value[\"name\"] == \"LEFT_THUMB\":\n",
    "                    wButtons |= 0x0010\n",
    "                elif value[\"name\"] == \"RIGHT_THUMB\":\n",
    "                    wButtons |= 0x0020\n",
    "\n",
    "    # Create the input structure\n",
    "    class INPUT(ctypes.Structure):\n",
    "        _fields_ = [(\"type\", ctypes.c_ulong),\n",
    "                    (\"ki\", ctypes.c_ulonglong),\n",
    "                    (\"hi\", ctypes.c_ulonglong),\n",
    "                    (\"mi\", ctypes.c_ulonglong),\n",
    "                    (\"gp\", ctypes.c_ulonglong)]\n",
    "    input_structure = INPUT(type=2,\n",
    "                            ki=0,\n",
    "                            hi=0,\n",
    "                            mi=0,\n",
    "                            gp=x | y << 16 | trigger_left << 32 | trigger_right << 48 | wButtons << 16)\n",
    "\n",
    "    # Send the input\n",
    "    ctypes.windll.user32.SendInput(1, ctypes.pointer(input_structure), ctypes.sizeof(input_structure))\n"
   ]
  },
  {
   "cell_type": "code",
   "execution_count": null,
   "id": "437b8f78",
   "metadata": {},
   "outputs": [
    {
     "name": "stdout",
     "output_type": "stream",
     "text": [
      "Sending input: x=-1, y=-1\n",
      "Sending input: x=-1, y=0\n",
      "Sending input: x=-1, y=1\n",
      "Sending input: x=0, y=-1\n",
      "Sending input: x=0, y=0\n",
      "Sending input: x=0, y=1\n",
      "Sending input: x=1, y=-1\n",
      "Sending input: x=1, y=0\n",
      "Sending input: x=1, y=1\n",
      "Sending input: trigger_left=0, trigger_right=0\n",
      "Sending input: trigger_left=0, trigger_right=1\n",
      "Sending input: trigger_left=1, trigger_right=0\n",
      "Sending input: trigger_left=1, trigger_right=1\n",
      "Sending input: A button pressed\n",
      "Sending input: B button pressed\n",
      "Sending input: X button pressed\n",
      "Sending input: Y button pressed\n",
      "Sending input: LEFT_SHOULDER button pressed\n",
      "Sending input: RIGHT_SHOULDER button pressed\n",
      "Sending input: BACK button pressed\n",
      "Sending input: START button pressed\n",
      "Sending input: LEFT_THUMB button pressed\n",
      "Sending input: RIGHT_THUMB button pressed\n",
      "Test complete\n"
     ]
    }
   ],
   "source": [
    "#|eval: false\n",
    "# Test moving the left stick in all four directions\n",
    "for x in [-1, 0, 1]:\n",
    "    for y in [-1, 0, 1]:\n",
    "        print(f\"Sending input: x={x}, y={y}\")\n",
    "        send_input({\"stick\": {\"x\": x, \"y\": y}})\n",
    "        time.sleep(0.5)\n",
    "\n",
    "# Test pressing both triggers\n",
    "for trigger_left in [0, 1]:\n",
    "    for trigger_right in [0, 1]:\n",
    "        print(f\"Sending input: trigger_left={trigger_left}, trigger_right={trigger_right}\")\n",
    "        send_input({\"trigger\": {\"side\": \"left\", \"v\": trigger_left}, \"trigger\": {\"side\": \"right\", \"v\": trigger_right}})\n",
    "        time.sleep(0.5)\n",
    "\n",
    "# Test pressing all buttons\n",
    "buttons = [\"A\", \"B\", \"X\", \"Y\", \"LEFT_SHOULDER\", \"RIGHT_SHOULDER\", \"BACK\", \"START\", \"LEFT_THUMB\", \"RIGHT_THUMB\",]\n",
    "\n",
    "for button in buttons:\n",
    "    print(f\"Sending input: {button} button pressed\")\n",
    "    send_input({\"button\": {\"name\": button, \"state\": \"press\"}})\n",
    "    time.sleep(0.5)\n",
    "\n",
    "print(\"Test complete\")\n"
   ]
  },
  {
   "cell_type": "code",
   "execution_count": null,
   "id": "7da10108",
   "metadata": {},
   "outputs": [],
   "source": [
    "#| hide\n",
    "import nbdev; nbdev.nbdev_export()"
   ]
  },
  {
   "cell_type": "code",
   "execution_count": null,
   "id": "b6318f51",
   "metadata": {},
   "outputs": [],
   "source": []
  }
 ],
 "metadata": {
  "kernelspec": {
   "display_name": "Python 3 (ipykernel)",
   "language": "python",
   "name": "python3"
  }
 },
 "nbformat": 4,
 "nbformat_minor": 5
}
