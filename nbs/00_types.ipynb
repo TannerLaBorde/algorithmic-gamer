{
 "cells": [
  {
   "cell_type": "markdown",
   "metadata": {},
   "source": [
    "# Types\n",
    "\n",
    "> This is where we define the base data components needed for higher level functionality."
   ]
  },
  {
   "cell_type": "code",
   "execution_count": null,
   "metadata": {},
   "outputs": [],
   "source": [
    "#| default_exp types\n",
    "#| export\n",
    "from dataclasses import dataclass\n",
    "from typing import Any, Dict, List\n",
    "import matplotlib.pyplot as plt\n",
    "from datetime import datetime"
   ]
  },
  {
   "cell_type": "markdown",
   "metadata": {},
   "source": [
    "### vision types"
   ]
  },
  {
   "cell_type": "code",
   "execution_count": null,
   "metadata": {},
   "outputs": [],
   "source": [
    "#| export\n",
    "@dataclass\n",
    "class Region:\n",
    "    left: int\n",
    "    top: int\n",
    "    right: int\n",
    "    bottom: int"
   ]
  },
  {
   "cell_type": "markdown",
   "metadata": {},
   "source": [
    "a `Region` defines the four corners of the box to be recorded."
   ]
  },
  {
   "cell_type": "code",
   "execution_count": null,
   "metadata": {},
   "outputs": [
    {
     "data": {
      "text/plain": [
       "Region(left=0, top=0, right=1280, bottom=720)"
      ]
     },
     "execution_count": null,
     "metadata": {},
     "output_type": "execute_result"
    }
   ],
   "source": [
    "#|eval: false\n",
    "reg = Region(left=0, top=0, right=1280, bottom=720)\n",
    "reg"
   ]
  },
  {
   "cell_type": "code",
   "execution_count": null,
   "metadata": {},
   "outputs": [],
   "source": [
    "#| export\n",
    "@dataclass\n",
    "class Window:\n",
    "    app_name: str\n",
    "    sub_region: Region = None"
   ]
  },
  {
   "cell_type": "code",
   "execution_count": null,
   "metadata": {},
   "outputs": [
    {
     "data": {
      "text/plain": [
       "Window(app_name='notepad.exe', sub_region=Region(left=0, top=0, right=1280, bottom=720))"
      ]
     },
     "execution_count": null,
     "metadata": {},
     "output_type": "execute_result"
    }
   ],
   "source": [
    "#|eval: false\n",
    "win = Window(app_name='notepad.exe', sub_region=reg)\n",
    "win"
   ]
  },
  {
   "cell_type": "markdown",
   "metadata": {},
   "source": [
    "a `Window` represents our reference to an application and the `Region` within we want to record. when `Region` is `None`, we record the entire application window."
   ]
  },
  {
   "cell_type": "markdown",
   "metadata": {},
   "source": [
    "### observation types"
   ]
  },
  {
   "cell_type": "code",
   "execution_count": null,
   "metadata": {},
   "outputs": [],
   "source": [
    "#| export\n",
    "@dataclass\n",
    "class VisualEventObservation:\n",
    "    timestamp: datetime\n",
    "    data: Any\n",
    "    def visualize(self):\n",
    "        plt.imshow(self.data)\n",
    "        try:\n",
    "            # Format datetime object as string\n",
    "            timestamp_str = timestamp.strftime('%Y-%m-%d %H:%M:%S')\n",
    "            # Add timestamp as text to the plot\n",
    "            plt.title(timestamp_str)\n",
    "        except:\n",
    "            pass\n",
    "        plt.show()"
   ]
  },
  {
   "cell_type": "markdown",
   "metadata": {},
   "source": [
    "`VisualEventObservation` is the visual stimuli collected and the timestamp it was observed."
   ]
  },
  {
   "cell_type": "code",
   "execution_count": null,
   "metadata": {},
   "outputs": [],
   "source": [
    "#| export\n",
    "@dataclass\n",
    "class SoundSequenceObservation:\n",
    "    start_timestamp: datetime\n",
    "    end_timestamp: datetime\n",
    "    data: Any"
   ]
  },
  {
   "cell_type": "markdown",
   "metadata": {},
   "source": [
    "`SoundSequenceObservation` is an observed audio sequence for a fixed period of time"
   ]
  },
  {
   "cell_type": "code",
   "execution_count": null,
   "metadata": {},
   "outputs": [],
   "source": [
    "#| export\n",
    "@dataclass\n",
    "class GamepadEventObservation:\n",
    "    timestamp: datetime\n",
    "    code: str\n",
    "    state: int"
   ]
  },
  {
   "cell_type": "markdown",
   "metadata": {},
   "source": [
    "`GamepadEventObservation` is the gamepad event observed and the timestamp it was observed."
   ]
  },
  {
   "cell_type": "code",
   "execution_count": null,
   "metadata": {},
   "outputs": [],
   "source": [
    "#| export\n",
    "@dataclass\n",
    "class VibrationEventObservation:\n",
    "    timestamp: datetime\n",
    "    motor: str\n",
    "    speed: float"
   ]
  },
  {
   "cell_type": "markdown",
   "metadata": {},
   "source": [
    "`VibrationEventObservation` is the vibration event observed and the timestamp it was observed."
   ]
  },
  {
   "cell_type": "code",
   "execution_count": null,
   "metadata": {},
   "outputs": [],
   "source": [
    "#| export\n",
    "@dataclass\n",
    "class DiscreteEvent:\n",
    "    event_index: int\n",
    "    timestamp: datetime\n",
    "    VisualEvents: List[VisualEventObservation]\n",
    "    GamepadEvents: List[GamepadEventObservation]\n",
    "    VibrationEvents: List[VibrationEventObservation]\n",
    "    SoundSequence: SoundSequenceObservation"
   ]
  },
  {
   "cell_type": "markdown",
   "metadata": {},
   "source": [
    "`DiscreteEvent` is the representation formed via observing a slice of time"
   ]
  },
  {
   "cell_type": "code",
   "execution_count": null,
   "metadata": {},
   "outputs": [],
   "source": [
    "#| export\n",
    "@dataclass\n",
    "class Episode:\n",
    "    events: List[DiscreteEvent]\n",
    "    meta_data: Dict[str, Any]"
   ]
  },
  {
   "cell_type": "markdown",
   "metadata": {},
   "source": [
    "`Episode` is the representation of a sequence of `DiscreteEvent`s and the contextualizing `meta_data` we decide to record with it."
   ]
  },
  {
   "cell_type": "code",
   "execution_count": null,
   "metadata": {},
   "outputs": [],
   "source": [
    "#| hide\n",
    "import nbdev; nbdev.nbdev_export()"
   ]
  }
 ],
 "metadata": {
  "kernelspec": {
   "display_name": "Python 3 (ipykernel)",
   "language": "python",
   "name": "python3"
  }
 },
 "nbformat": 4,
 "nbformat_minor": 4
}
