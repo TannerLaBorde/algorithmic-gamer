{
 "cells": [
  {
   "cell_type": "markdown",
   "id": "fb1b36be",
   "metadata": {},
   "source": [
    "# Application Fuzzer\n",
    "\n",
    "> a utility function for getting an application name from its approximate name"
   ]
  },
  {
   "cell_type": "code",
   "execution_count": null,
   "id": "587ec4de",
   "metadata": {},
   "outputs": [],
   "source": [
    "#| default_exp utility.fuzzer\n",
    "#| export\n",
    "import win32gui\n",
    "from collections import OrderedDict\n",
    "from fuzzywuzzy import process\n",
    "from typing import List"
   ]
  },
  {
   "cell_type": "code",
   "execution_count": null,
   "id": "6ae3405d",
   "metadata": {},
   "outputs": [],
   "source": [
    "#| export\n",
    "def resolve_window_name(approx_name: str, choices: List[str], threshold: int = 85) -> str:\n",
    "    \"\"\"\n",
    "    Resolve an approximate window name to the actual window name.\n",
    "    \n",
    "    Parameters:\n",
    "    approx_name (str): The approximate window name.\n",
    "    choices (List[str]): A list of possible window names to choose from.\n",
    "    \n",
    "    Returns:\n",
    "    str: The actual window name.\n",
    "    \"\"\"\n",
    "    # Use fuzzy string matching to find the best match for the approximate name.\n",
    "    match = process.extractOne(approx_name, choices)\n",
    "    \n",
    "    if match[1] >= threshold: # Matching score is 90 or higher\n",
    "        return match[0]\n",
    "    else: # No good match was found\n",
    "        return ''\n",
    "\n",
    "def get_window_names() -> List[str]:\n",
    "    \"\"\"\n",
    "    Get a list of all the window names on the desktop.\n",
    "    \n",
    "    Returns:\n",
    "    List[str]: A list of window names.\n",
    "    \"\"\"\n",
    "    windows = []\n",
    "    \n",
    "    def _enum_windows(hwin, _):\n",
    "        \"\"\"\n",
    "        Enumerate the windows and add their names to the list.\n",
    "        \"\"\"\n",
    "        if win32gui.IsWindowVisible(hwin):\n",
    "            text = win32gui.GetWindowText(hwin)\n",
    "            if text:\n",
    "                windows.append(text)\n",
    "    \n",
    "    # Enumerate the windows and add their names to the list.\n",
    "    win32gui.EnumWindows(_enum_windows, 0)\n",
    "    \n",
    "    return windows\n",
    "\n",
    "# Create an ordered dictionary to store the results of previous calls.\n",
    "# The maximum number of items in the cache is 1000.\n",
    "cache = OrderedDict(maxlen=10)\n",
    "\n",
    "def fuzzy_app(approx_name: str) -> str:\n",
    "    \"\"\"\n",
    "    Resolve an approximate window name to the actual window name using magic.\n",
    "    \n",
    "    Parameters:\n",
    "    approx_name (str): The approximate window name.\n",
    "    \n",
    "    Returns:\n",
    "    str: The actual window name.\n",
    "    \"\"\"\n",
    "    # Check if the approximate window name is in the cache.\n",
    "    if approx_name in cache:\n",
    "        # Return the result from the cache.\n",
    "        return cache[approx_name]\n",
    "    \n",
    "    # Get a list of all the window names on the desktop.\n",
    "    choices = get_window_names()\n",
    "    \n",
    "    # Resolve the approximate window name to the actual window name.\n",
    "    actual_name = resolve_window_name(approx_name, choices)\n",
    "    \n",
    "    # Add the result to the cache.\n",
    "    cache[approx_name] = actual_name\n",
    "    \n",
    "    if actual_name != '':\n",
    "        return actual_name\n",
    "    else:\n",
    "        raise Exception(f'magic_resolver failed to resolve {approx_name} list of windows is:{choices}')"
   ]
  },
  {
   "cell_type": "code",
   "execution_count": null,
   "id": "36f7684e",
   "metadata": {},
   "outputs": [
    {
     "data": {
      "text/plain": [
       "'*new 1 - Notepad++'"
      ]
     },
     "execution_count": null,
     "metadata": {},
     "output_type": "execute_result"
    }
   ],
   "source": [
    "#|eval: false\n",
    "fuzzy_app('notepad')"
   ]
  },
  {
   "cell_type": "code",
   "execution_count": null,
   "id": "efb30278",
   "metadata": {},
   "outputs": [],
   "source": [
    "#| hide\n",
    "import nbdev; nbdev.nbdev_export()"
   ]
  },
  {
   "cell_type": "code",
   "execution_count": null,
   "id": "ab8a11d6",
   "metadata": {},
   "outputs": [],
   "source": []
  },
  {
   "cell_type": "code",
   "execution_count": null,
   "id": "34031bf4",
   "metadata": {},
   "outputs": [],
   "source": []
  }
 ],
 "metadata": {
  "kernelspec": {
   "display_name": "Python 3 (ipykernel)",
   "language": "python",
   "name": "python3"
  }
 },
 "nbformat": 4,
 "nbformat_minor": 5
}
